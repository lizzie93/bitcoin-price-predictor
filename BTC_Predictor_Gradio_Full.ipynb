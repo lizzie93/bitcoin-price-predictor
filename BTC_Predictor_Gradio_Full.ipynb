
{
 "cells": [
  {
   "cell_type": "markdown",
   "metadata": {},
   "source": [
    "# 💰 Dự đoán giá Bitcoin với LSTM + Google Sheets + Gradio UI"
   ]
  },
  {
   "cell_type": "code",
   "metadata": {},
   "source": [
    "# 📦 Cài đặt thư viện cần thiết\n",
    "!pip install yfinance gspread oauth2client gradio tensorflow"
   ],
   "execution_count": null,
   "outputs": []
  },
  {
   "cell_type": "code",
   "metadata": {},
   "source": [
    "# 🔐 Định nghĩa hàm log_prediction để ghi vào Google Sheet\n",
    "import gspread\n",
    "from oauth2client.service_account import ServiceAccountCredentials\n",
    "from datetime import datetime\n",
    "\n",
    "def log_prediction(actual_price, predicted_price):\n",
    "    scope = [\"https://spreadsheets.google.com/feeds\",\n",
    "             \"https://www.googleapis.com/auth/drive\"]\n",
    "    creds = ServiceAccountCredentials.from_json_keyfile_name(\"btc-predictor-465418-724dc76c0ac9.json\", scope)\n",
    "    client = gspread.authorize(creds)\n",
    "    sheet = client.open_by_key(\"1DyunpedkCQ0NZhUf2Ecr3bVbigbK3-AXrYPwQv8xgfE\").worksheet(\"BTC_Log\")\n",
    "    now = datetime.now().strftime(\"%Y-%m-%d %H:%M:%S\")\n",
    "    sheet.append_row([now, actual_price, predicted_price])\n",
    "    print(\"✅ Đã ghi vào Google Sheet:\", [now, actual_price, predicted_price])"
   ],
   "execution_count": null,
   "outputs": []
  },
  {
   "cell_type": "code",
   "metadata": {},
   "source": [
    "# 📊 Lấy dữ liệu thực tế từ CoinGecko\n",
    "import requests\n",
    "import numpy as np\n",
    "from sklearn.preprocessing import MinMaxScaler\n",
    "\n",
    "def fetch_recent_prices(days=30):\n",
    "    url = f\"https://api.coingecko.com/api/v3/coins/bitcoin/market_chart?vs_currency=usd&days={days}&interval=daily\"\n",
    "    data = requests.get(url).json()\n",
    "    prices = np.array(data['prices'])[:, 1].reshape(-1, 1)\n",
    "    return prices\n",
    "\n",
    "recent_prices = fetch_recent_prices(30)\n",
    "scaler = MinMaxScaler()\n",
    "scaled = scaler.fit_transform(recent_prices)\n",
    "X_real = np.array([scaled])"
   ],
   "execution_count": null,
   "outputs": []
  },
  {
   "cell_type": "code",
   "metadata": {},
   "source": [
    "# 🤖 Dự đoán bằng mô hình LSTM đã lưu\n",
    "from tensorflow.keras.models import load_model\n",
    "model = load_model('btc_lstm_model.h5')\n",
    "\n",
    "predicted_scaled = model.predict(X_real)\n",
    "predicted_price = scaler.inverse_transform(predicted_scaled)\n",
    "\n",
    "actual_price = recent_prices[-1][0]\n",
    "predicted_value = predicted_price[0][0]\n",
    "\n",
    "print(f\"💰 Dự đoán giá Bitcoin ngày tiếp theo: ${predicted_value:,.2f}\")\n",
    "\n",
    "log_prediction(actual_price, predicted_value)"
   ],
   "execution_count": null,
   "outputs": []
  },
  {
   "cell_type": "code",
   "metadata": {},
   "source": [
    "# 🖼️ Hàm show_predictions để hiển thị bảng + biểu đồ từ Google Sheet\n",
    "import pandas as pd\n",
    "import matplotlib.pyplot as plt\n",
    "import io\n",
    "from PIL import Image\n",
    "\n",
    "def show_predictions():\n",
    "    creds = ServiceAccountCredentials.from_json_keyfile_name(\"btc-predictor-465418-724dc76c0ac9.json\", [\n",
    "        \"https://spreadsheets.google.com/feeds\",\n",
    "        \"https://www.googleapis.com/auth/drive\"]\n",
    "    )\n",
    "    client = gspread.authorize(creds)\n",
    "    sheet = client.open_by_key(\"1DyunpedkCQ0NZhUf2Ecr3bVbigbK3-AXrYPwQv8xgfE\").worksheet(\"BTC_Log\")\n",
    "    df = pd.DataFrame(sheet.get_all_records())\n",
    "\n",
    "    if df.empty:\n",
    "        return pd.DataFrame(), None\n",
    "\n",
    "    df['Time'] = pd.to_datetime(df['Time'])\n",
    "    df = df.sort_values('Time').tail(5)\n",
    "\n",
    "    plt.figure(figsize=(10, 4))\n",
    "    plt.plot(df['Time'], df['Actual Price'], label='Giá thật', marker='o')\n",
    "    plt.plot(df['Time'], df['Predicted Price'], label='Giá dự đoán', marker='x')\n",
    "    plt.grid(True); plt.legend(); plt.tight_layout()\n",
    "\n",
    "    buf = io.BytesIO()\n",
    "    plt.savefig(buf, format='png'); buf.seek(0)\n",
    "    image = Image.open(buf)\n",
    "    return df, image"
   ],
   "execution_count": null,
   "outputs": []
  },
  {
   "cell_type": "code",
   "metadata": {},
   "source": [
    "# 🚀 Tạo giao diện Gradio\n",
    "import gradio as gr\n",
    "\n",
    "demo = gr.Interface(\n",
    "    fn=show_predictions,\n",
    "    inputs=[],\n",
    "    outputs=[\"dataframe\", \"image\"],\n",
    "    title=\"💰 Dự đoán giá Bitcoin\",\n",
    "    description=\"Hiển thị dữ liệu và biểu đồ từ Google Sheet\"\n",
    ")\n",
    "demo.launch(share=True)"
   ],
   "execution_count": null,
   "outputs": []
  }
 ],
 "metadata": {
  "colab": {
   "name": "BTC_Predictor_Gradio_Full.ipynb",
   "provenance": []
  },
  "kernelspec": {
   "name": "python3",
   "display_name": "Python 3"
  },
  "language_info": {
   "name": "python"
  }
 },
 "nbformat": 4,
 "nbformat_minor": 0
}
